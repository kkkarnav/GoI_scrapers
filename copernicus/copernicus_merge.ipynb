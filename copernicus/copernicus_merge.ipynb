{
 "cells": [
  {
   "cell_type": "code",
   "execution_count": 1,
   "metadata": {
    "collapsed": true
   },
   "outputs": [],
   "source": [
    "import os\n",
    "import numpy as np\n",
    "import pandas as pd\n",
    "import matplotlib.pyplot as plt\n",
    "import geopandas as gpd\n",
    "import rasterio\n",
    "from rasterio.plot import show\n",
    "from rasterio.merge import merge\n",
    "from rasterstats import gen_zonal_stats\n",
    "from pprint import pprint"
   ]
  },
  {
   "cell_type": "code",
   "execution_count": 2,
   "outputs": [],
   "source": [
    "PATH = \"D:/code/elections/gis\""
   ],
   "metadata": {
    "collapsed": false,
    "pycharm": {
     "name": "#%%\n"
    }
   }
  },
  {
   "cell_type": "code",
   "execution_count": 3,
   "outputs": [],
   "source": [
    "raster_files = {}\n",
    "for raster in os.listdir(f\"{PATH}/ghsl/odisha\"):\n",
    "    if raster.endswith(\".tif\"):\n",
    "        raster_files[(int(raster.split(\"S_E\")[1].split(\"_GLOBE\")[0]), raster.split(\"V1_0_\")[1].split(\".tif\")[0])] = rasterio.open(f\"{PATH}/ghsl/odisha/{raster}\")"
   ],
   "metadata": {
    "collapsed": false,
    "pycharm": {
     "name": "#%%\n"
    }
   }
  },
  {
   "cell_type": "code",
   "execution_count": 4,
   "outputs": [
    {
     "data": {
      "text/plain": "dict_keys([(1975, 'R7_C27'), (1975, 'R8_C27'), (1980, 'R7_C27'), (1980, 'R8_C27'), (1985, 'R7_C27'), (1985, 'R8_C27'), (1990, 'R7_C27'), (1990, 'R8_C27'), (1995, 'R7_C27'), (1995, 'R8_C27'), (2000, 'R7_C27'), (2000, 'R8_C27'), (2005, 'R7_C27'), (2005, 'R8_C27'), (2010, 'R7_C27'), (2010, 'R8_C27'), (2015, 'R7_C27'), (2015, 'R8_C27'), (2020, 'R7_C27'), (2020, 'R8_C27'), (2025, 'R7_C27'), (2025, 'R8_C27'), (2030, 'R7_C27'), (2030, 'R8_C27')])"
     },
     "execution_count": 4,
     "metadata": {},
     "output_type": "execute_result"
    }
   ],
   "source": [
    "raster_files.keys()"
   ],
   "metadata": {
    "collapsed": false,
    "pycharm": {
     "name": "#%%\n"
    }
   }
  },
  {
   "cell_type": "code",
   "execution_count": 6,
   "outputs": [
    {
     "ename": "CPLE_AppDefinedError",
     "evalue": "Deleting D:/code/elections/gis/ghsl/odisha/merged/GHS_BUILT_S_E2020_GLOBE_R2023A_4326_3ss_V1_0_merged.tif failed: Permission denied",
     "output_type": "error",
     "traceback": [
      "\u001B[1;31m---------------------------------------------------------------------------\u001B[0m",
      "\u001B[1;31mCPLE_AppDefinedError\u001B[0m                      Traceback (most recent call last)",
      "Cell \u001B[1;32mIn[6], line 15\u001B[0m\n\u001B[0;32m      7\u001B[0m out_meta\u001B[38;5;241m.\u001B[39mupdate({\n\u001B[0;32m      8\u001B[0m     \u001B[38;5;124m\"\u001B[39m\u001B[38;5;124mdriver\u001B[39m\u001B[38;5;124m\"\u001B[39m: \u001B[38;5;124m\"\u001B[39m\u001B[38;5;124mGTiff\u001B[39m\u001B[38;5;124m\"\u001B[39m,\n\u001B[0;32m      9\u001B[0m     \u001B[38;5;124m\"\u001B[39m\u001B[38;5;124mheight\u001B[39m\u001B[38;5;124m\"\u001B[39m: mosaic\u001B[38;5;241m.\u001B[39mshape[\u001B[38;5;241m1\u001B[39m],\n\u001B[0;32m     10\u001B[0m     \u001B[38;5;124m\"\u001B[39m\u001B[38;5;124mwidth\u001B[39m\u001B[38;5;124m\"\u001B[39m: mosaic\u001B[38;5;241m.\u001B[39mshape[\u001B[38;5;241m2\u001B[39m],\n\u001B[0;32m     11\u001B[0m     \u001B[38;5;124m\"\u001B[39m\u001B[38;5;124mtransform\u001B[39m\u001B[38;5;124m\"\u001B[39m: out_trans\n\u001B[0;32m     12\u001B[0m })\n\u001B[0;32m     14\u001B[0m merged_raster_path \u001B[38;5;241m=\u001B[39m \u001B[38;5;124mf\u001B[39m\u001B[38;5;124m\"\u001B[39m\u001B[38;5;132;01m{\u001B[39;00mPATH\u001B[38;5;132;01m}\u001B[39;00m\u001B[38;5;124m/ghsl/odisha/merged/GHS_BUILT_S_E\u001B[39m\u001B[38;5;132;01m{\u001B[39;00myear\u001B[38;5;132;01m}\u001B[39;00m\u001B[38;5;124m_GLOBE_R2023A_4326_3ss_V1_0_merged.tif\u001B[39m\u001B[38;5;124m\"\u001B[39m\n\u001B[1;32m---> 15\u001B[0m \u001B[38;5;28;01mwith\u001B[39;00m rasterio\u001B[38;5;241m.\u001B[39mopen(merged_raster_path, \u001B[38;5;124m\"\u001B[39m\u001B[38;5;124mw+\u001B[39m\u001B[38;5;124m\"\u001B[39m, \u001B[38;5;241m*\u001B[39m\u001B[38;5;241m*\u001B[39mout_meta) \u001B[38;5;28;01mas\u001B[39;00m dest:\n\u001B[0;32m     16\u001B[0m     dest\u001B[38;5;241m.\u001B[39mwrite(mosaic)\n",
      "File \u001B[1;32m~\\AppData\\Roaming\\Python\\Python310\\site-packages\\rasterio\\env.py:451\u001B[0m, in \u001B[0;36mensure_env_with_credentials.<locals>.wrapper\u001B[1;34m(*args, **kwds)\u001B[0m\n\u001B[0;32m    448\u001B[0m     session \u001B[38;5;241m=\u001B[39m DummySession()\n\u001B[0;32m    450\u001B[0m \u001B[38;5;28;01mwith\u001B[39;00m env_ctor(session\u001B[38;5;241m=\u001B[39msession):\n\u001B[1;32m--> 451\u001B[0m     \u001B[38;5;28;01mreturn\u001B[39;00m f(\u001B[38;5;241m*\u001B[39margs, \u001B[38;5;241m*\u001B[39m\u001B[38;5;241m*\u001B[39mkwds)\n",
      "File \u001B[1;32m~\\AppData\\Roaming\\Python\\Python310\\site-packages\\rasterio\\__init__.py:327\u001B[0m, in \u001B[0;36mopen\u001B[1;34m(fp, mode, driver, width, height, count, crs, transform, dtype, nodata, sharing, **kwargs)\u001B[0m\n\u001B[0;32m    325\u001B[0m writer \u001B[38;5;241m=\u001B[39m get_writer_for_driver(driver)\n\u001B[0;32m    326\u001B[0m \u001B[38;5;28;01mif\u001B[39;00m writer \u001B[38;5;129;01mis\u001B[39;00m \u001B[38;5;129;01mnot\u001B[39;00m \u001B[38;5;28;01mNone\u001B[39;00m:\n\u001B[1;32m--> 327\u001B[0m     dataset \u001B[38;5;241m=\u001B[39m writer(\n\u001B[0;32m    328\u001B[0m         path,\n\u001B[0;32m    329\u001B[0m         mode,\n\u001B[0;32m    330\u001B[0m         driver\u001B[38;5;241m=\u001B[39mdriver,\n\u001B[0;32m    331\u001B[0m         width\u001B[38;5;241m=\u001B[39mwidth,\n\u001B[0;32m    332\u001B[0m         height\u001B[38;5;241m=\u001B[39mheight,\n\u001B[0;32m    333\u001B[0m         count\u001B[38;5;241m=\u001B[39mcount,\n\u001B[0;32m    334\u001B[0m         crs\u001B[38;5;241m=\u001B[39mcrs,\n\u001B[0;32m    335\u001B[0m         transform\u001B[38;5;241m=\u001B[39mtransform,\n\u001B[0;32m    336\u001B[0m         dtype\u001B[38;5;241m=\u001B[39mdtype,\n\u001B[0;32m    337\u001B[0m         nodata\u001B[38;5;241m=\u001B[39mnodata,\n\u001B[0;32m    338\u001B[0m         sharing\u001B[38;5;241m=\u001B[39msharing,\n\u001B[0;32m    339\u001B[0m         \u001B[38;5;241m*\u001B[39m\u001B[38;5;241m*\u001B[39mkwargs\n\u001B[0;32m    340\u001B[0m     )\n\u001B[0;32m    341\u001B[0m \u001B[38;5;28;01melse\u001B[39;00m:\n\u001B[0;32m    342\u001B[0m     \u001B[38;5;28;01mraise\u001B[39;00m DriverCapabilityError(\n\u001B[0;32m    343\u001B[0m         \u001B[38;5;124m\"\u001B[39m\u001B[38;5;124mWriter does not exist for driver: \u001B[39m\u001B[38;5;132;01m%s\u001B[39;00m\u001B[38;5;124m\"\u001B[39m \u001B[38;5;241m%\u001B[39m \u001B[38;5;28mstr\u001B[39m(driver)\n\u001B[0;32m    344\u001B[0m     )\n",
      "File \u001B[1;32mrasterio\\\\_io.pyx:1466\u001B[0m, in \u001B[0;36mrasterio._io.DatasetWriterBase.__init__\u001B[1;34m()\u001B[0m\n",
      "File \u001B[1;32mrasterio\\\\_io.pyx:332\u001B[0m, in \u001B[0;36mrasterio._io._delete_dataset_if_exists\u001B[1;34m()\u001B[0m\n",
      "File \u001B[1;32mrasterio\\\\_err.pyx:195\u001B[0m, in \u001B[0;36mrasterio._err.exc_wrap_int\u001B[1;34m()\u001B[0m\n",
      "\u001B[1;31mCPLE_AppDefinedError\u001B[0m: Deleting D:/code/elections/gis/ghsl/odisha/merged/GHS_BUILT_S_E2020_GLOBE_R2023A_4326_3ss_V1_0_merged.tif failed: Permission denied"
     ]
    }
   ],
   "source": [
    "for year in range(int(list(raster_files.keys())[0][0]), int(list(raster_files.keys())[-1][0])+5, 5):\n",
    "    # Merge the two grids\n",
    "    mosaic, out_trans = merge([raster_files[(year, 'R7_C27')], raster_files[(year, 'R8_C27')]])\n",
    "\n",
    "    # Preserve the metadata (mainly coordinates)\n",
    "    out_meta = raster_files[(year, 'R7_C27')].meta.copy()\n",
    "    out_meta.update({\n",
    "        \"driver\": \"GTiff\",\n",
    "        \"height\": mosaic.shape[1],\n",
    "        \"width\": mosaic.shape[2],\n",
    "        \"transform\": out_trans\n",
    "    })\n",
    "\n",
    "    merged_raster_path = f\"{PATH}/ghsl/odisha/merged/GHS_BUILT_S_E{year}_GLOBE_R2023A_4326_3ss_V1_0_merged.tif\"\n",
    "    with rasterio.open(merged_raster_path, \"w+\", **out_meta) as dest:\n",
    "        dest.write(mosaic)"
   ],
   "metadata": {
    "collapsed": false,
    "pycharm": {
     "name": "#%%\n"
    }
   }
  },
  {
   "cell_type": "code",
   "execution_count": null,
   "outputs": [],
   "source": [],
   "metadata": {
    "collapsed": false,
    "pycharm": {
     "name": "#%%\n"
    }
   }
  }
 ],
 "metadata": {
  "kernelspec": {
   "display_name": "Python 3",
   "language": "python",
   "name": "python3"
  },
  "language_info": {
   "codemirror_mode": {
    "name": "ipython",
    "version": 2
   },
   "file_extension": ".py",
   "mimetype": "text/x-python",
   "name": "python",
   "nbconvert_exporter": "python",
   "pygments_lexer": "ipython2",
   "version": "2.7.6"
  }
 },
 "nbformat": 4,
 "nbformat_minor": 0
}