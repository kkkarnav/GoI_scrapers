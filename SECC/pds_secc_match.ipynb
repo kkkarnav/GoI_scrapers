{
 "cells": [
  {
   "cell_type": "code",
   "execution_count": 79,
   "metadata": {
    "collapsed": true
   },
   "outputs": [],
   "source": [
    "import pandas as pd\n",
    "import numpy as np\n",
    "import matplotlib.pyplot as plt\n",
    "import math\n",
    "from tqdm import tqdm\n",
    "import warnings\n",
    "from fuzzywuzzy import process\n",
    "\n",
    "tqdm.pandas()\n",
    "warnings.filterwarnings(\"ignore\")"
   ]
  },
  {
   "cell_type": "code",
   "execution_count": 80,
   "outputs": [],
   "source": [
    "DATA_DIR = \"D:/assorted/Dropbox/BDO_Data_Odisha/SECC\""
   ],
   "metadata": {
    "collapsed": false,
    "pycharm": {
     "name": "#%%\n"
    }
   }
  },
  {
   "cell_type": "code",
   "execution_count": 81,
   "outputs": [],
   "source": [
    "def fuzzy_merge(df_1, df_2, key1, key2, threshold=90, limit=2):\n",
    "    \"\"\"\n",
    "    :param df_1: the left table to join\n",
    "    :param df_2: the right table to join\n",
    "    :param key1: key column of the left table\n",
    "    :param key2: key column of the right table\n",
    "    :param threshold: how close the matches should be to return a match, based on Levenshtein distance\n",
    "    :param limit: the amount of matches that will get returned, these are sorted high to low\n",
    "    :return: dataframe with both keys and matches\n",
    "    \"\"\"\n",
    "\n",
    "    s = df_2[key2].tolist()\n",
    "\n",
    "    m = df_1[key1].apply(lambda x: process.extract(x, s, limit=limit))\n",
    "    df_1['matches'] = m\n",
    "\n",
    "    m2 = df_1['matches'].apply(lambda x: ', '.join([i[0] for i in x if i[1] >= threshold]))\n",
    "    df_1['matches'] = m2\n",
    "\n",
    "    return df_1"
   ],
   "metadata": {
    "collapsed": false,
    "pycharm": {
     "name": "#%%\n"
    }
   }
  },
  {
   "cell_type": "code",
   "execution_count": 82,
   "outputs": [
    {
     "data": {
      "text/plain": "             V1   state district      tehsil           panchayat language  \\\n0        978679  ODISHA   Anugul      Anugul  Amantapur(Village)      eng   \n1        978680  ODISHA   Anugul      Anugul  Amantapur(Village)      eng   \n2        978681  ODISHA   Anugul      Anugul  Amantapur(Village)      eng   \n3        978682  ODISHA   Anugul      Anugul  Amantapur(Village)      eng   \n4        978683  ODISHA   Anugul      Anugul  Amantapur(Village)      eng   \n...         ...     ...      ...         ...                 ...      ...   \n280439  1820885  ODISHA   Anugul  Thakurgarh  Uchakurum(Village)      eng   \n280440  1820886  ODISHA   Anugul  Thakurgarh  Uchakurum(Village)      eng   \n280441  1820887  ODISHA   Anugul  Thakurgarh  Uchakurum(Village)      eng   \n280442  1820888  ODISHA   Anugul  Thakurgarh  Uchakurum(Village)      eng   \n280443  1820889  ODISHA   Anugul  Thakurgarh  Uchakurum(Village)      eng   \n\n       auto_inclusion_deprivation_or_exclusion_or_other  \\\n0                         Auto Inclusion or Deprivation   \n1                         Auto Inclusion or Deprivation   \n2                         Auto Inclusion or Deprivation   \n3                         Auto Inclusion or Deprivation   \n4                         Auto Inclusion or Deprivation   \n...                                                 ...   \n280439                    Auto Inclusion or Deprivation   \n280440                    Auto Inclusion or Deprivation   \n280441                    Auto Inclusion or Deprivation   \n280442                    Auto Inclusion or Deprivation   \n280443                    Auto Inclusion or Deprivation   \n\n                              head_of_hh gender  age  ...  \\\n0             CHASHI PRADHAN\\ଚାଷି ପ୍ରଧାନ      M   50  ...   \n1              FAKIR PRADHAN\\ଫକିର ପ୍ରଧାନ      M   69  ...   \n2          PABITRA PRADHAN\\ପବିତ୍ର ପ୍ରଧାନ      M   62  ...   \n3       PRASANTA PRADHAN\\ପ୍ରଶାନ୍ତ ପ୍ରଧାନ      M   35  ...   \n4         Prashna Pradhan\\ପ୍ରସନ୍ନ ପ୍ରଧାନ      M   32  ...   \n...                                  ...    ...  ...  ...   \n280439   SABHAGINI BEHERA\\ସଭାଗିନୀ ବେହେରା      F   32  ...   \n280440        SANJAY BEHERA\\ସଞ୍ଜୟ ବେହେରା      M   34  ...   \n280441     SUDHAKAR BEHERA\\ସୁଧାକର ବେହେରା      M   37  ...   \n280442   SUKUMARI BEHERA\\ସୁକୁମାରୀ ବେହେରା      F   67  ...   \n280443           TARA BEHERA\\ତାରା ବେହେରା      F   38  ...   \n\n           fathers_and_mothers_name deprivation_count  \\\n0         ବାଟି ପ୍ରଧାନ\\ଧୁବୁଣୀ ପ୍ରଧାନ                 1   \n1             ଭୀମ ପ୍ରଧାନ\\କନକ ପ୍ରଧାନ                 1   \n2           ଅକୁର ପ୍ରଧାନ\\ଜାତକ ପ୍ରଧାନ                 2   \n3          ଘୁଡୁ ପ୍ରଧାନ\\ପଦ୍ମା ପ୍ରଧାନ                 2   \n4         ପବିତ୍ର ପ୍ରଧାନ\\ମୀନା ପ୍ରଧାନ                 2   \n...                             ...               ...   \n280439  ଜୀବନ ବେହେରା\\ସୁଲୋଚନା ବେହେରା                 2   \n280440   ଭଗବାନ ବେହେରା\\ରୁକୁଣା ବେହେରା                 3   \n280441    ମଧୁ ବେହେରା\\ପଞ୍ଚାଳୀ ବେହେରା                 2   \n280442   ମେରା ବେହେରା\\ସାଧବାଣୀ ବେହେରା                 1   \n280443       ରାଜ ବେହେରା\\ଜେମା ବେହେରା                 2   \n\n       auto_inclusion_deprivation_code total_members  \\\n0                 --,--,--,--,--,D6,--             6   \n1                 --,--,--,--,--,D6,--             5   \n2                 --,--,--,--,--,D6,D7             4   \n3                 D1,--,--,--,--,D6,--             4   \n4                 --,--,--,--,--,D6,D7             4   \n...                                ...           ...   \n280439            --,--,--,--,D5,D6,--             3   \n280440            D1,--,--,--,D5,D6,--             2   \n280441            --,--,--,--,D5,D6,--             3   \n280442            --,--,--,--,D5,--,--             5   \n280443            --,--,--,--,D5,D6,--             6   \n\n        hh_summary_auto_inclusion  hh_summary_auto_exclusion  \\\n0                             NaN                          2   \n1                             NaN                          2   \n2                             NaN                          2   \n3                             NaN                          2   \n4                             NaN                          2   \n...                           ...                        ...   \n280439                        NaN                          0   \n280440                        NaN                          0   \n280441                        NaN                          0   \n280442                        NaN                          0   \n280443                        NaN                          0   \n\n        hh_summary_auto_other  hh_summary_deprivation    village keep  \n0                         5.0                     9.0  Amantapur    1  \n1                         5.0                     9.0  Amantapur    1  \n2                         5.0                     9.0  Amantapur    1  \n3                         5.0                     9.0  Amantapur    1  \n4                         5.0                     9.0  Amantapur    1  \n...                       ...                     ...        ...  ...  \n280439                    NaN                    17.0  Uchakurum    1  \n280440                    NaN                    17.0  Uchakurum    1  \n280441                    NaN                    17.0  Uchakurum    1  \n280442                    NaN                    17.0  Uchakurum    1  \n280443                    NaN                    17.0  Uchakurum    1  \n\n[280444 rows x 21 columns]",
      "text/html": "<div>\n<style scoped>\n    .dataframe tbody tr th:only-of-type {\n        vertical-align: middle;\n    }\n\n    .dataframe tbody tr th {\n        vertical-align: top;\n    }\n\n    .dataframe thead th {\n        text-align: right;\n    }\n</style>\n<table border=\"1\" class=\"dataframe\">\n  <thead>\n    <tr style=\"text-align: right;\">\n      <th></th>\n      <th>V1</th>\n      <th>state</th>\n      <th>district</th>\n      <th>tehsil</th>\n      <th>panchayat</th>\n      <th>language</th>\n      <th>auto_inclusion_deprivation_or_exclusion_or_other</th>\n      <th>head_of_hh</th>\n      <th>gender</th>\n      <th>age</th>\n      <th>...</th>\n      <th>fathers_and_mothers_name</th>\n      <th>deprivation_count</th>\n      <th>auto_inclusion_deprivation_code</th>\n      <th>total_members</th>\n      <th>hh_summary_auto_inclusion</th>\n      <th>hh_summary_auto_exclusion</th>\n      <th>hh_summary_auto_other</th>\n      <th>hh_summary_deprivation</th>\n      <th>village</th>\n      <th>keep</th>\n    </tr>\n  </thead>\n  <tbody>\n    <tr>\n      <th>0</th>\n      <td>978679</td>\n      <td>ODISHA</td>\n      <td>Anugul</td>\n      <td>Anugul</td>\n      <td>Amantapur(Village)</td>\n      <td>eng</td>\n      <td>Auto Inclusion or Deprivation</td>\n      <td>CHASHI PRADHAN\\ଚାଷି ପ୍ରଧାନ</td>\n      <td>M</td>\n      <td>50</td>\n      <td>...</td>\n      <td>ବାଟି ପ୍ରଧାନ\\ଧୁବୁଣୀ ପ୍ରଧାନ</td>\n      <td>1</td>\n      <td>--,--,--,--,--,D6,--</td>\n      <td>6</td>\n      <td>NaN</td>\n      <td>2</td>\n      <td>5.0</td>\n      <td>9.0</td>\n      <td>Amantapur</td>\n      <td>1</td>\n    </tr>\n    <tr>\n      <th>1</th>\n      <td>978680</td>\n      <td>ODISHA</td>\n      <td>Anugul</td>\n      <td>Anugul</td>\n      <td>Amantapur(Village)</td>\n      <td>eng</td>\n      <td>Auto Inclusion or Deprivation</td>\n      <td>FAKIR PRADHAN\\ଫକିର ପ୍ରଧାନ</td>\n      <td>M</td>\n      <td>69</td>\n      <td>...</td>\n      <td>ଭୀମ ପ୍ରଧାନ\\କନକ ପ୍ରଧାନ</td>\n      <td>1</td>\n      <td>--,--,--,--,--,D6,--</td>\n      <td>5</td>\n      <td>NaN</td>\n      <td>2</td>\n      <td>5.0</td>\n      <td>9.0</td>\n      <td>Amantapur</td>\n      <td>1</td>\n    </tr>\n    <tr>\n      <th>2</th>\n      <td>978681</td>\n      <td>ODISHA</td>\n      <td>Anugul</td>\n      <td>Anugul</td>\n      <td>Amantapur(Village)</td>\n      <td>eng</td>\n      <td>Auto Inclusion or Deprivation</td>\n      <td>PABITRA PRADHAN\\ପବିତ୍ର ପ୍ରଧାନ</td>\n      <td>M</td>\n      <td>62</td>\n      <td>...</td>\n      <td>ଅକୁର ପ୍ରଧାନ\\ଜାତକ ପ୍ରଧାନ</td>\n      <td>2</td>\n      <td>--,--,--,--,--,D6,D7</td>\n      <td>4</td>\n      <td>NaN</td>\n      <td>2</td>\n      <td>5.0</td>\n      <td>9.0</td>\n      <td>Amantapur</td>\n      <td>1</td>\n    </tr>\n    <tr>\n      <th>3</th>\n      <td>978682</td>\n      <td>ODISHA</td>\n      <td>Anugul</td>\n      <td>Anugul</td>\n      <td>Amantapur(Village)</td>\n      <td>eng</td>\n      <td>Auto Inclusion or Deprivation</td>\n      <td>PRASANTA PRADHAN\\ପ୍ରଶାନ୍ତ ପ୍ରଧାନ</td>\n      <td>M</td>\n      <td>35</td>\n      <td>...</td>\n      <td>ଘୁଡୁ ପ୍ରଧାନ\\ପଦ୍ମା ପ୍ରଧାନ</td>\n      <td>2</td>\n      <td>D1,--,--,--,--,D6,--</td>\n      <td>4</td>\n      <td>NaN</td>\n      <td>2</td>\n      <td>5.0</td>\n      <td>9.0</td>\n      <td>Amantapur</td>\n      <td>1</td>\n    </tr>\n    <tr>\n      <th>4</th>\n      <td>978683</td>\n      <td>ODISHA</td>\n      <td>Anugul</td>\n      <td>Anugul</td>\n      <td>Amantapur(Village)</td>\n      <td>eng</td>\n      <td>Auto Inclusion or Deprivation</td>\n      <td>Prashna Pradhan\\ପ୍ରସନ୍ନ ପ୍ରଧାନ</td>\n      <td>M</td>\n      <td>32</td>\n      <td>...</td>\n      <td>ପବିତ୍ର ପ୍ରଧାନ\\ମୀନା ପ୍ରଧାନ</td>\n      <td>2</td>\n      <td>--,--,--,--,--,D6,D7</td>\n      <td>4</td>\n      <td>NaN</td>\n      <td>2</td>\n      <td>5.0</td>\n      <td>9.0</td>\n      <td>Amantapur</td>\n      <td>1</td>\n    </tr>\n    <tr>\n      <th>...</th>\n      <td>...</td>\n      <td>...</td>\n      <td>...</td>\n      <td>...</td>\n      <td>...</td>\n      <td>...</td>\n      <td>...</td>\n      <td>...</td>\n      <td>...</td>\n      <td>...</td>\n      <td>...</td>\n      <td>...</td>\n      <td>...</td>\n      <td>...</td>\n      <td>...</td>\n      <td>...</td>\n      <td>...</td>\n      <td>...</td>\n      <td>...</td>\n      <td>...</td>\n      <td>...</td>\n    </tr>\n    <tr>\n      <th>280439</th>\n      <td>1820885</td>\n      <td>ODISHA</td>\n      <td>Anugul</td>\n      <td>Thakurgarh</td>\n      <td>Uchakurum(Village)</td>\n      <td>eng</td>\n      <td>Auto Inclusion or Deprivation</td>\n      <td>SABHAGINI BEHERA\\ସଭାଗିନୀ ବେହେରା</td>\n      <td>F</td>\n      <td>32</td>\n      <td>...</td>\n      <td>ଜୀବନ ବେହେରା\\ସୁଲୋଚନା ବେହେରା</td>\n      <td>2</td>\n      <td>--,--,--,--,D5,D6,--</td>\n      <td>3</td>\n      <td>NaN</td>\n      <td>0</td>\n      <td>NaN</td>\n      <td>17.0</td>\n      <td>Uchakurum</td>\n      <td>1</td>\n    </tr>\n    <tr>\n      <th>280440</th>\n      <td>1820886</td>\n      <td>ODISHA</td>\n      <td>Anugul</td>\n      <td>Thakurgarh</td>\n      <td>Uchakurum(Village)</td>\n      <td>eng</td>\n      <td>Auto Inclusion or Deprivation</td>\n      <td>SANJAY BEHERA\\ସଞ୍ଜୟ ବେହେରା</td>\n      <td>M</td>\n      <td>34</td>\n      <td>...</td>\n      <td>ଭଗବାନ ବେହେରା\\ରୁକୁଣା ବେହେରା</td>\n      <td>3</td>\n      <td>D1,--,--,--,D5,D6,--</td>\n      <td>2</td>\n      <td>NaN</td>\n      <td>0</td>\n      <td>NaN</td>\n      <td>17.0</td>\n      <td>Uchakurum</td>\n      <td>1</td>\n    </tr>\n    <tr>\n      <th>280441</th>\n      <td>1820887</td>\n      <td>ODISHA</td>\n      <td>Anugul</td>\n      <td>Thakurgarh</td>\n      <td>Uchakurum(Village)</td>\n      <td>eng</td>\n      <td>Auto Inclusion or Deprivation</td>\n      <td>SUDHAKAR BEHERA\\ସୁଧାକର ବେହେରା</td>\n      <td>M</td>\n      <td>37</td>\n      <td>...</td>\n      <td>ମଧୁ ବେହେରା\\ପଞ୍ଚାଳୀ ବେହେରା</td>\n      <td>2</td>\n      <td>--,--,--,--,D5,D6,--</td>\n      <td>3</td>\n      <td>NaN</td>\n      <td>0</td>\n      <td>NaN</td>\n      <td>17.0</td>\n      <td>Uchakurum</td>\n      <td>1</td>\n    </tr>\n    <tr>\n      <th>280442</th>\n      <td>1820888</td>\n      <td>ODISHA</td>\n      <td>Anugul</td>\n      <td>Thakurgarh</td>\n      <td>Uchakurum(Village)</td>\n      <td>eng</td>\n      <td>Auto Inclusion or Deprivation</td>\n      <td>SUKUMARI BEHERA\\ସୁକୁମାରୀ ବେହେରା</td>\n      <td>F</td>\n      <td>67</td>\n      <td>...</td>\n      <td>ମେରା ବେହେରା\\ସାଧବାଣୀ ବେହେରା</td>\n      <td>1</td>\n      <td>--,--,--,--,D5,--,--</td>\n      <td>5</td>\n      <td>NaN</td>\n      <td>0</td>\n      <td>NaN</td>\n      <td>17.0</td>\n      <td>Uchakurum</td>\n      <td>1</td>\n    </tr>\n    <tr>\n      <th>280443</th>\n      <td>1820889</td>\n      <td>ODISHA</td>\n      <td>Anugul</td>\n      <td>Thakurgarh</td>\n      <td>Uchakurum(Village)</td>\n      <td>eng</td>\n      <td>Auto Inclusion or Deprivation</td>\n      <td>TARA BEHERA\\ତାରା ବେହେରା</td>\n      <td>F</td>\n      <td>38</td>\n      <td>...</td>\n      <td>ରାଜ ବେହେରା\\ଜେମା ବେହେରା</td>\n      <td>2</td>\n      <td>--,--,--,--,D5,D6,--</td>\n      <td>6</td>\n      <td>NaN</td>\n      <td>0</td>\n      <td>NaN</td>\n      <td>17.0</td>\n      <td>Uchakurum</td>\n      <td>1</td>\n    </tr>\n  </tbody>\n</table>\n<p>280444 rows × 21 columns</p>\n</div>"
     },
     "execution_count": 82,
     "metadata": {},
     "output_type": "execute_result"
    }
   ],
   "source": [
    "secc = pd.read_csv(f\"{DATA_DIR}/Anugul.csv\").drop([\"Unnamed: 0\", \"X\"], axis=1)\n",
    "secc"
   ],
   "metadata": {
    "collapsed": false,
    "pycharm": {
     "name": "#%%\n"
    }
   }
  },
  {
   "cell_type": "code",
   "execution_count": 83,
   "outputs": [
    {
     "data": {
      "text/plain": "           district         block            gp  \\\n0           cuttack   narsinghpur      balisahi   \n1           cuttack       athgarh      khuntuni   \n2           cuttack         tangi     kanheipur   \n3          balasore          soro     anantapur   \n4     jagatsinghpur        kujang         sailo   \n...             ...           ...           ...   \n9995      dhenkanal        bhuban  mathakargola   \n9996          boudh      kantamal    baragochha   \n9997          boudh     harbhanga   purunakatak   \n9998         ganjam      polasara        jakara   \n9999         ganjam  kukudakhandi     ballipada   \n\n                               rc_name  form.no              full.name  \\\n0          0709051-GP Office, BALISAHI     1216           DEPIKA PATRA   \n1          0701181-GP Office, KHUNTUNI      324         LOKANATH DALEI   \n2         0713111-GP Office, KANHEIPUR      702          SURESH BEHERA   \n3         0212011-GP Office, ANANTAPUR      873           ARATI  MALIK   \n4             1205251-GP Office, SAILO     1993            NARAYAN DAS   \n...                                ...      ...                    ...   \n9995   0901151-GP Office, MATHAKARGOLA     1059   SRIBASHA KUMAR SAHOO   \n9996     0603031-GP Office, BARAGOCHHA     1474          TRIBENI MAHAR   \n9997    0602121-GP Office, PURUNAKATAK      772     BISNUCHARANA SAMAL   \n9998         1117141-GP Office, JAKARA      234  SULATA KUMARI MOHANTY   \n9999      1115041-GP Office, BALLIPADA      409  SANTOSH KUMAR MANKUDA   \n\n            spouse.name..            father.name gen         relation  ...  \\\n0                     NaN          BHASHKARA DAS   F  Daughter In Law  ...   \n1                     NaN        TRILOCHAN DALEI   M              Son  ...   \n2                     NaN        JALENDRA BEHERA   M              Son  ...   \n3         NIRANJAN  MALIK            RAMA  MALIK   F             Head  ...   \n4             KALYANI DAS           MAHESWAR DAS   M              Son  ...   \n...                   ...                    ...  ..              ...  ...   \n9995          JANHA SAHOO       CHAKRADHAR SAHOO   M          Husband  ...   \n9996                  NaN           BHAKTI MAHAR   F         Daughter  ...   \n9997                  /NA        JANADARNA SAMAL   M             Head  ...   \n9998  KALU CHARAN MOHANTY        BRUNDABAN SWAIN   F             Head  ...   \n9999      RANJITA MANKUDA  UJALA KUMAR MAHANKUDA   M          Husband  ...   \n\n     apl_dlr.2 grains.in.qtl.._dlr koil.in.ltr.._dlr block.hq_dlr yes.no_dlr  \\\n0        247.0              234.92            2393.0         11.0        Yes   \n1        516.0              217.05            4036.0         10.0        Yes   \n2        200.0               52.20            1065.0          3.0        Yes   \n3        106.0               69.26            1065.0         14.0        Yes   \n4        550.0              178.30            2424.0         20.0        Yes   \n...        ...                 ...               ...          ...        ...   \n9995     817.0              140.39            1965.0         20.0        Yes   \n9996      67.0              336.90            1700.0         27.0        Yes   \n9997     198.0              468.94            5800.0          5.0        Yes   \n9998     300.0               90.96            2350.0         10.0        Yes   \n9999       0.0              140.80               0.0         18.0        Yes   \n\n     district_id_dlr district_name_dlr  block_name_dlr spouse.name  \\\n0                7.0           CUTTACK     NARSINGHPUR  ALOK PATRA   \n1                7.0           CUTTACK         ATHGARH         NaN   \n2                7.0           CUTTACK           TANGI         NaN   \n3                2.0          BALASORE            SORO         NaN   \n4               12.0     JAGATSINGHPUR          KUJANG         NaN   \n...              ...               ...             ...         ...   \n9995             9.0         DHENKANAL          BHUBAN         NaN   \n9996             6.0             BOUDH        KANTAMAL         NaN   \n9997             6.0             BOUDH       HARBHANGA         NaN   \n9998            11.0            GANJAM        POLASARA         NaN   \n9999            11.0            GANJAM    KUKUDAKHANDI         NaN   \n\n      entitlment..food.option.  \n0                          NaN  \n1                          NaN  \n2                          NaN  \n3                          NaN  \n4                          NaN  \n...                        ...  \n9995                       NaN  \n9996                       NaN  \n9997                       NaN  \n9998                       NaN  \n9999                       NaN  \n\n[10000 rows x 48 columns]",
      "text/html": "<div>\n<style scoped>\n    .dataframe tbody tr th:only-of-type {\n        vertical-align: middle;\n    }\n\n    .dataframe tbody tr th {\n        vertical-align: top;\n    }\n\n    .dataframe thead th {\n        text-align: right;\n    }\n</style>\n<table border=\"1\" class=\"dataframe\">\n  <thead>\n    <tr style=\"text-align: right;\">\n      <th></th>\n      <th>district</th>\n      <th>block</th>\n      <th>gp</th>\n      <th>rc_name</th>\n      <th>form.no</th>\n      <th>full.name</th>\n      <th>spouse.name..</th>\n      <th>father.name</th>\n      <th>gen</th>\n      <th>relation</th>\n      <th>...</th>\n      <th>apl_dlr.2</th>\n      <th>grains.in.qtl.._dlr</th>\n      <th>koil.in.ltr.._dlr</th>\n      <th>block.hq_dlr</th>\n      <th>yes.no_dlr</th>\n      <th>district_id_dlr</th>\n      <th>district_name_dlr</th>\n      <th>block_name_dlr</th>\n      <th>spouse.name</th>\n      <th>entitlment..food.option.</th>\n    </tr>\n  </thead>\n  <tbody>\n    <tr>\n      <th>0</th>\n      <td>cuttack</td>\n      <td>narsinghpur</td>\n      <td>balisahi</td>\n      <td>0709051-GP Office, BALISAHI</td>\n      <td>1216</td>\n      <td>DEPIKA PATRA</td>\n      <td>NaN</td>\n      <td>BHASHKARA DAS</td>\n      <td>F</td>\n      <td>Daughter In Law</td>\n      <td>...</td>\n      <td>247.0</td>\n      <td>234.92</td>\n      <td>2393.0</td>\n      <td>11.0</td>\n      <td>Yes</td>\n      <td>7.0</td>\n      <td>CUTTACK</td>\n      <td>NARSINGHPUR</td>\n      <td>ALOK PATRA</td>\n      <td>NaN</td>\n    </tr>\n    <tr>\n      <th>1</th>\n      <td>cuttack</td>\n      <td>athgarh</td>\n      <td>khuntuni</td>\n      <td>0701181-GP Office, KHUNTUNI</td>\n      <td>324</td>\n      <td>LOKANATH DALEI</td>\n      <td>NaN</td>\n      <td>TRILOCHAN DALEI</td>\n      <td>M</td>\n      <td>Son</td>\n      <td>...</td>\n      <td>516.0</td>\n      <td>217.05</td>\n      <td>4036.0</td>\n      <td>10.0</td>\n      <td>Yes</td>\n      <td>7.0</td>\n      <td>CUTTACK</td>\n      <td>ATHGARH</td>\n      <td>NaN</td>\n      <td>NaN</td>\n    </tr>\n    <tr>\n      <th>2</th>\n      <td>cuttack</td>\n      <td>tangi</td>\n      <td>kanheipur</td>\n      <td>0713111-GP Office, KANHEIPUR</td>\n      <td>702</td>\n      <td>SURESH BEHERA</td>\n      <td>NaN</td>\n      <td>JALENDRA BEHERA</td>\n      <td>M</td>\n      <td>Son</td>\n      <td>...</td>\n      <td>200.0</td>\n      <td>52.20</td>\n      <td>1065.0</td>\n      <td>3.0</td>\n      <td>Yes</td>\n      <td>7.0</td>\n      <td>CUTTACK</td>\n      <td>TANGI</td>\n      <td>NaN</td>\n      <td>NaN</td>\n    </tr>\n    <tr>\n      <th>3</th>\n      <td>balasore</td>\n      <td>soro</td>\n      <td>anantapur</td>\n      <td>0212011-GP Office, ANANTAPUR</td>\n      <td>873</td>\n      <td>ARATI  MALIK</td>\n      <td>NIRANJAN  MALIK</td>\n      <td>RAMA  MALIK</td>\n      <td>F</td>\n      <td>Head</td>\n      <td>...</td>\n      <td>106.0</td>\n      <td>69.26</td>\n      <td>1065.0</td>\n      <td>14.0</td>\n      <td>Yes</td>\n      <td>2.0</td>\n      <td>BALASORE</td>\n      <td>SORO</td>\n      <td>NaN</td>\n      <td>NaN</td>\n    </tr>\n    <tr>\n      <th>4</th>\n      <td>jagatsinghpur</td>\n      <td>kujang</td>\n      <td>sailo</td>\n      <td>1205251-GP Office, SAILO</td>\n      <td>1993</td>\n      <td>NARAYAN DAS</td>\n      <td>KALYANI DAS</td>\n      <td>MAHESWAR DAS</td>\n      <td>M</td>\n      <td>Son</td>\n      <td>...</td>\n      <td>550.0</td>\n      <td>178.30</td>\n      <td>2424.0</td>\n      <td>20.0</td>\n      <td>Yes</td>\n      <td>12.0</td>\n      <td>JAGATSINGHPUR</td>\n      <td>KUJANG</td>\n      <td>NaN</td>\n      <td>NaN</td>\n    </tr>\n    <tr>\n      <th>...</th>\n      <td>...</td>\n      <td>...</td>\n      <td>...</td>\n      <td>...</td>\n      <td>...</td>\n      <td>...</td>\n      <td>...</td>\n      <td>...</td>\n      <td>...</td>\n      <td>...</td>\n      <td>...</td>\n      <td>...</td>\n      <td>...</td>\n      <td>...</td>\n      <td>...</td>\n      <td>...</td>\n      <td>...</td>\n      <td>...</td>\n      <td>...</td>\n      <td>...</td>\n      <td>...</td>\n    </tr>\n    <tr>\n      <th>9995</th>\n      <td>dhenkanal</td>\n      <td>bhuban</td>\n      <td>mathakargola</td>\n      <td>0901151-GP Office, MATHAKARGOLA</td>\n      <td>1059</td>\n      <td>SRIBASHA KUMAR SAHOO</td>\n      <td>JANHA SAHOO</td>\n      <td>CHAKRADHAR SAHOO</td>\n      <td>M</td>\n      <td>Husband</td>\n      <td>...</td>\n      <td>817.0</td>\n      <td>140.39</td>\n      <td>1965.0</td>\n      <td>20.0</td>\n      <td>Yes</td>\n      <td>9.0</td>\n      <td>DHENKANAL</td>\n      <td>BHUBAN</td>\n      <td>NaN</td>\n      <td>NaN</td>\n    </tr>\n    <tr>\n      <th>9996</th>\n      <td>boudh</td>\n      <td>kantamal</td>\n      <td>baragochha</td>\n      <td>0603031-GP Office, BARAGOCHHA</td>\n      <td>1474</td>\n      <td>TRIBENI MAHAR</td>\n      <td>NaN</td>\n      <td>BHAKTI MAHAR</td>\n      <td>F</td>\n      <td>Daughter</td>\n      <td>...</td>\n      <td>67.0</td>\n      <td>336.90</td>\n      <td>1700.0</td>\n      <td>27.0</td>\n      <td>Yes</td>\n      <td>6.0</td>\n      <td>BOUDH</td>\n      <td>KANTAMAL</td>\n      <td>NaN</td>\n      <td>NaN</td>\n    </tr>\n    <tr>\n      <th>9997</th>\n      <td>boudh</td>\n      <td>harbhanga</td>\n      <td>purunakatak</td>\n      <td>0602121-GP Office, PURUNAKATAK</td>\n      <td>772</td>\n      <td>BISNUCHARANA SAMAL</td>\n      <td>/NA</td>\n      <td>JANADARNA SAMAL</td>\n      <td>M</td>\n      <td>Head</td>\n      <td>...</td>\n      <td>198.0</td>\n      <td>468.94</td>\n      <td>5800.0</td>\n      <td>5.0</td>\n      <td>Yes</td>\n      <td>6.0</td>\n      <td>BOUDH</td>\n      <td>HARBHANGA</td>\n      <td>NaN</td>\n      <td>NaN</td>\n    </tr>\n    <tr>\n      <th>9998</th>\n      <td>ganjam</td>\n      <td>polasara</td>\n      <td>jakara</td>\n      <td>1117141-GP Office, JAKARA</td>\n      <td>234</td>\n      <td>SULATA KUMARI MOHANTY</td>\n      <td>KALU CHARAN MOHANTY</td>\n      <td>BRUNDABAN SWAIN</td>\n      <td>F</td>\n      <td>Head</td>\n      <td>...</td>\n      <td>300.0</td>\n      <td>90.96</td>\n      <td>2350.0</td>\n      <td>10.0</td>\n      <td>Yes</td>\n      <td>11.0</td>\n      <td>GANJAM</td>\n      <td>POLASARA</td>\n      <td>NaN</td>\n      <td>NaN</td>\n    </tr>\n    <tr>\n      <th>9999</th>\n      <td>ganjam</td>\n      <td>kukudakhandi</td>\n      <td>ballipada</td>\n      <td>1115041-GP Office, BALLIPADA</td>\n      <td>409</td>\n      <td>SANTOSH KUMAR MANKUDA</td>\n      <td>RANJITA MANKUDA</td>\n      <td>UJALA KUMAR MAHANKUDA</td>\n      <td>M</td>\n      <td>Husband</td>\n      <td>...</td>\n      <td>0.0</td>\n      <td>140.80</td>\n      <td>0.0</td>\n      <td>18.0</td>\n      <td>Yes</td>\n      <td>11.0</td>\n      <td>GANJAM</td>\n      <td>KUKUDAKHANDI</td>\n      <td>NaN</td>\n      <td>NaN</td>\n    </tr>\n  </tbody>\n</table>\n<p>10000 rows × 48 columns</p>\n</div>"
     },
     "execution_count": 83,
     "metadata": {},
     "output_type": "execute_result"
    }
   ],
   "source": [
    "pds = pd.read_csv(f\"{DATA_DIR}/sampled_data.csv\")\n",
    "pds.drop(pds.columns[:3], axis=1, inplace=True)\n",
    "pds"
   ],
   "metadata": {
    "collapsed": false,
    "pycharm": {
     "name": "#%%\n"
    }
   }
  },
  {
   "cell_type": "code",
   "execution_count": 84,
   "outputs": [
    {
     "data": {
      "text/plain": "      district        block            gp  form.no              full.name  \\\n0     balasore         soro     anantapur      873           ARATI  MALIK   \n1       ganjam  digapahandi  s.tikarapada      230          PANDI SARDDAR   \n2       ganjam  digapahandi    bhramarpur      591             SASI NAIKA   \n3       jajpur     rasulpur   sribantapur     1043              BIDU ROUT   \n4     balasore      nilgiri      garadihi      525               GITA DAS   \n...        ...          ...           ...      ...                    ...   \n3068   cuttack      baramba   barambagarh     2115           ULLASA SAHOO   \n3069     angul     banarpal     bauligarh      865        GITANJALI SETHI   \n3070  baragarh      paikmal      badikata     1590         KARPURA BARIHA   \n3071     boudh    harbhanga   purunakatak      772     BISNUCHARANA SAMAL   \n3072    ganjam     polasara        jakara      234  SULATA KUMARI MOHANTY   \n\n     relation     aadhar.matching.status villagename_pds  \\\n0        Head  Authentication Successful       anantapur   \n1        Head  Authentication Successful    babulibandha   \n2        Head      Authentication Failed     bhramarapur   \n3        Head  Authentication Successful      barahampur   \n4        Head      Authentication Failed         kalakad   \n...       ...                        ...             ...   \n3068     Head  Authentication Successful         baramba   \n3069     Head                        NaN       bauligarh   \n3070     Head  Authentication Successful        saplahar   \n3071     Head      Authentication Failed          rajing   \n3072     Head      Authentication Failed          jakara   \n\n     entitlment..food.option.  \n0                         NaN  \n1                         NaN  \n2                         NaN  \n3                         NaN  \n4                         NaN  \n...                       ...  \n3068   2 Kg Rice & 3 Kg Wheat  \n3069                      NaN  \n3070                      NaN  \n3071                      NaN  \n3072                      NaN  \n\n[3073 rows x 9 columns]",
      "text/html": "<div>\n<style scoped>\n    .dataframe tbody tr th:only-of-type {\n        vertical-align: middle;\n    }\n\n    .dataframe tbody tr th {\n        vertical-align: top;\n    }\n\n    .dataframe thead th {\n        text-align: right;\n    }\n</style>\n<table border=\"1\" class=\"dataframe\">\n  <thead>\n    <tr style=\"text-align: right;\">\n      <th></th>\n      <th>district</th>\n      <th>block</th>\n      <th>gp</th>\n      <th>form.no</th>\n      <th>full.name</th>\n      <th>relation</th>\n      <th>aadhar.matching.status</th>\n      <th>villagename_pds</th>\n      <th>entitlment..food.option.</th>\n    </tr>\n  </thead>\n  <tbody>\n    <tr>\n      <th>0</th>\n      <td>balasore</td>\n      <td>soro</td>\n      <td>anantapur</td>\n      <td>873</td>\n      <td>ARATI  MALIK</td>\n      <td>Head</td>\n      <td>Authentication Successful</td>\n      <td>anantapur</td>\n      <td>NaN</td>\n    </tr>\n    <tr>\n      <th>1</th>\n      <td>ganjam</td>\n      <td>digapahandi</td>\n      <td>s.tikarapada</td>\n      <td>230</td>\n      <td>PANDI SARDDAR</td>\n      <td>Head</td>\n      <td>Authentication Successful</td>\n      <td>babulibandha</td>\n      <td>NaN</td>\n    </tr>\n    <tr>\n      <th>2</th>\n      <td>ganjam</td>\n      <td>digapahandi</td>\n      <td>bhramarpur</td>\n      <td>591</td>\n      <td>SASI NAIKA</td>\n      <td>Head</td>\n      <td>Authentication Failed</td>\n      <td>bhramarapur</td>\n      <td>NaN</td>\n    </tr>\n    <tr>\n      <th>3</th>\n      <td>jajpur</td>\n      <td>rasulpur</td>\n      <td>sribantapur</td>\n      <td>1043</td>\n      <td>BIDU ROUT</td>\n      <td>Head</td>\n      <td>Authentication Successful</td>\n      <td>barahampur</td>\n      <td>NaN</td>\n    </tr>\n    <tr>\n      <th>4</th>\n      <td>balasore</td>\n      <td>nilgiri</td>\n      <td>garadihi</td>\n      <td>525</td>\n      <td>GITA DAS</td>\n      <td>Head</td>\n      <td>Authentication Failed</td>\n      <td>kalakad</td>\n      <td>NaN</td>\n    </tr>\n    <tr>\n      <th>...</th>\n      <td>...</td>\n      <td>...</td>\n      <td>...</td>\n      <td>...</td>\n      <td>...</td>\n      <td>...</td>\n      <td>...</td>\n      <td>...</td>\n      <td>...</td>\n    </tr>\n    <tr>\n      <th>3068</th>\n      <td>cuttack</td>\n      <td>baramba</td>\n      <td>barambagarh</td>\n      <td>2115</td>\n      <td>ULLASA SAHOO</td>\n      <td>Head</td>\n      <td>Authentication Successful</td>\n      <td>baramba</td>\n      <td>2 Kg Rice &amp; 3 Kg Wheat</td>\n    </tr>\n    <tr>\n      <th>3069</th>\n      <td>angul</td>\n      <td>banarpal</td>\n      <td>bauligarh</td>\n      <td>865</td>\n      <td>GITANJALI SETHI</td>\n      <td>Head</td>\n      <td>NaN</td>\n      <td>bauligarh</td>\n      <td>NaN</td>\n    </tr>\n    <tr>\n      <th>3070</th>\n      <td>baragarh</td>\n      <td>paikmal</td>\n      <td>badikata</td>\n      <td>1590</td>\n      <td>KARPURA BARIHA</td>\n      <td>Head</td>\n      <td>Authentication Successful</td>\n      <td>saplahar</td>\n      <td>NaN</td>\n    </tr>\n    <tr>\n      <th>3071</th>\n      <td>boudh</td>\n      <td>harbhanga</td>\n      <td>purunakatak</td>\n      <td>772</td>\n      <td>BISNUCHARANA SAMAL</td>\n      <td>Head</td>\n      <td>Authentication Failed</td>\n      <td>rajing</td>\n      <td>NaN</td>\n    </tr>\n    <tr>\n      <th>3072</th>\n      <td>ganjam</td>\n      <td>polasara</td>\n      <td>jakara</td>\n      <td>234</td>\n      <td>SULATA KUMARI MOHANTY</td>\n      <td>Head</td>\n      <td>Authentication Failed</td>\n      <td>jakara</td>\n      <td>NaN</td>\n    </tr>\n  </tbody>\n</table>\n<p>3073 rows × 9 columns</p>\n</div>"
     },
     "execution_count": 84,
     "metadata": {},
     "output_type": "execute_result"
    }
   ],
   "source": [
    "pds = pds[pds[\"relation\"] == \"Head\"][[\"district\", \"block\", \"gp\", \"form.no\", \"full.name\", \"relation\", \"aadhar.matching.status\", \"villagename_pds\", \"entitlment..food.option.\"]].reset_index(drop=True)\n",
    "pds[\"full.name\"] = pds[\"full.name\"].apply(lambda x: str(x).upper().replace(\"_\", \" \"))\n",
    "pds"
   ],
   "metadata": {
    "collapsed": false,
    "pycharm": {
     "name": "#%%\n"
    }
   }
  },
  {
   "cell_type": "code",
   "execution_count": 90,
   "outputs": [
    {
     "data": {
      "text/plain": "     district         block            gp  form.no          full.name  \\\n83      angul       talcher  kalamachhuin      538      TAPOI  BEHERA   \n98      angul       talcher        bantol      942        KAMALA  BAL   \n139     angul    athamallik      jamudoli      100       PANCHEI ROUL   \n147     angul   chhendipada      barasahi      841     CHHABILA MAJHI   \n155     angul         angul      rantalei      318        ANJALI GURU   \n...       ...           ...           ...      ...                ...   \n3013    angul        kaniha      karnapal      799      SAROJINI SAHU   \n3015    angul        kaniha        kaniha     1944      KAMANI DEHURI   \n3022    angul        kaniha       rengali     1749  MAHARGI GOCHHAYAT   \n3035    angul  kishorenagar    gan boinda       10       BILAS BEHERA   \n3069    angul      banarpal     bauligarh      865    GITANJALI SETHI   \n\n     relation     aadhar.matching.status villagename_pds  \\\n83       Head      Authentication Failed    prasanprasad   \n98       Head  Authentication Successful          balhar   \n139      Head  Authentication Successful        jamudoli   \n147      Head      Authentication Failed    dasaharasahi   \n155      Head  Authentication Successful        rantalei   \n...       ...                        ...             ...   \n3013     Head  Authentication Successful        karnapal   \n3015     Head  Authentication Successful      kansamunda   \n3022     Head  Authentication Successful         rengali   \n3035     Head  Authentication Successful          boinda   \n3069     Head                        NaN       bauligarh   \n\n     entitlment..food.option.  \n83                        NaN  \n98                        NaN  \n139                       NaN  \n147                       NaN  \n155                       NaN  \n...                       ...  \n3013                      NaN  \n3015                      NaN  \n3022                      NaN  \n3035                      NaN  \n3069                      NaN  \n\n[227 rows x 9 columns]",
      "text/html": "<div>\n<style scoped>\n    .dataframe tbody tr th:only-of-type {\n        vertical-align: middle;\n    }\n\n    .dataframe tbody tr th {\n        vertical-align: top;\n    }\n\n    .dataframe thead th {\n        text-align: right;\n    }\n</style>\n<table border=\"1\" class=\"dataframe\">\n  <thead>\n    <tr style=\"text-align: right;\">\n      <th></th>\n      <th>district</th>\n      <th>block</th>\n      <th>gp</th>\n      <th>form.no</th>\n      <th>full.name</th>\n      <th>relation</th>\n      <th>aadhar.matching.status</th>\n      <th>villagename_pds</th>\n      <th>entitlment..food.option.</th>\n    </tr>\n  </thead>\n  <tbody>\n    <tr>\n      <th>83</th>\n      <td>angul</td>\n      <td>talcher</td>\n      <td>kalamachhuin</td>\n      <td>538</td>\n      <td>TAPOI  BEHERA</td>\n      <td>Head</td>\n      <td>Authentication Failed</td>\n      <td>prasanprasad</td>\n      <td>NaN</td>\n    </tr>\n    <tr>\n      <th>98</th>\n      <td>angul</td>\n      <td>talcher</td>\n      <td>bantol</td>\n      <td>942</td>\n      <td>KAMALA  BAL</td>\n      <td>Head</td>\n      <td>Authentication Successful</td>\n      <td>balhar</td>\n      <td>NaN</td>\n    </tr>\n    <tr>\n      <th>139</th>\n      <td>angul</td>\n      <td>athamallik</td>\n      <td>jamudoli</td>\n      <td>100</td>\n      <td>PANCHEI ROUL</td>\n      <td>Head</td>\n      <td>Authentication Successful</td>\n      <td>jamudoli</td>\n      <td>NaN</td>\n    </tr>\n    <tr>\n      <th>147</th>\n      <td>angul</td>\n      <td>chhendipada</td>\n      <td>barasahi</td>\n      <td>841</td>\n      <td>CHHABILA MAJHI</td>\n      <td>Head</td>\n      <td>Authentication Failed</td>\n      <td>dasaharasahi</td>\n      <td>NaN</td>\n    </tr>\n    <tr>\n      <th>155</th>\n      <td>angul</td>\n      <td>angul</td>\n      <td>rantalei</td>\n      <td>318</td>\n      <td>ANJALI GURU</td>\n      <td>Head</td>\n      <td>Authentication Successful</td>\n      <td>rantalei</td>\n      <td>NaN</td>\n    </tr>\n    <tr>\n      <th>...</th>\n      <td>...</td>\n      <td>...</td>\n      <td>...</td>\n      <td>...</td>\n      <td>...</td>\n      <td>...</td>\n      <td>...</td>\n      <td>...</td>\n      <td>...</td>\n    </tr>\n    <tr>\n      <th>3013</th>\n      <td>angul</td>\n      <td>kaniha</td>\n      <td>karnapal</td>\n      <td>799</td>\n      <td>SAROJINI SAHU</td>\n      <td>Head</td>\n      <td>Authentication Successful</td>\n      <td>karnapal</td>\n      <td>NaN</td>\n    </tr>\n    <tr>\n      <th>3015</th>\n      <td>angul</td>\n      <td>kaniha</td>\n      <td>kaniha</td>\n      <td>1944</td>\n      <td>KAMANI DEHURI</td>\n      <td>Head</td>\n      <td>Authentication Successful</td>\n      <td>kansamunda</td>\n      <td>NaN</td>\n    </tr>\n    <tr>\n      <th>3022</th>\n      <td>angul</td>\n      <td>kaniha</td>\n      <td>rengali</td>\n      <td>1749</td>\n      <td>MAHARGI GOCHHAYAT</td>\n      <td>Head</td>\n      <td>Authentication Successful</td>\n      <td>rengali</td>\n      <td>NaN</td>\n    </tr>\n    <tr>\n      <th>3035</th>\n      <td>angul</td>\n      <td>kishorenagar</td>\n      <td>gan boinda</td>\n      <td>10</td>\n      <td>BILAS BEHERA</td>\n      <td>Head</td>\n      <td>Authentication Successful</td>\n      <td>boinda</td>\n      <td>NaN</td>\n    </tr>\n    <tr>\n      <th>3069</th>\n      <td>angul</td>\n      <td>banarpal</td>\n      <td>bauligarh</td>\n      <td>865</td>\n      <td>GITANJALI SETHI</td>\n      <td>Head</td>\n      <td>NaN</td>\n      <td>bauligarh</td>\n      <td>NaN</td>\n    </tr>\n  </tbody>\n</table>\n<p>227 rows × 9 columns</p>\n</div>"
     },
     "execution_count": 90,
     "metadata": {},
     "output_type": "execute_result"
    }
   ],
   "source": [
    "pds_a = pds[pds[\"district\"] == \"angul\"]\n",
    "pds_a"
   ],
   "metadata": {
    "collapsed": false,
    "pycharm": {
     "name": "#%%\n"
    }
   }
  },
  {
   "cell_type": "code",
   "execution_count": 85,
   "outputs": [
    {
     "data": {
      "text/plain": "         state district      tehsil    village           panchayat  \\\n0       ODISHA   Anugul      Anugul  Amantapur  Amantapur(Village)   \n1       ODISHA   Anugul      Anugul  Amantapur  Amantapur(Village)   \n2       ODISHA   Anugul      Anugul  Amantapur  Amantapur(Village)   \n3       ODISHA   Anugul      Anugul  Amantapur  Amantapur(Village)   \n4       ODISHA   Anugul      Anugul  Amantapur  Amantapur(Village)   \n...        ...      ...         ...        ...                 ...   \n280439  ODISHA   Anugul  Thakurgarh  Uchakurum  Uchakurum(Village)   \n280440  ODISHA   Anugul  Thakurgarh  Uchakurum  Uchakurum(Village)   \n280441  ODISHA   Anugul  Thakurgarh  Uchakurum  Uchakurum(Village)   \n280442  ODISHA   Anugul  Thakurgarh  Uchakurum  Uchakurum(Village)   \n280443  ODISHA   Anugul  Thakurgarh  Uchakurum  Uchakurum(Village)   \n\n              head_of_hh  \n0         CHASHI PRADHAN  \n1          FAKIR PRADHAN  \n2        PABITRA PRADHAN  \n3       PRASANTA PRADHAN  \n4        PRASHNA PRADHAN  \n...                  ...  \n280439  SABHAGINI BEHERA  \n280440     SANJAY BEHERA  \n280441   SUDHAKAR BEHERA  \n280442   SUKUMARI BEHERA  \n280443       TARA BEHERA  \n\n[267646 rows x 6 columns]",
      "text/html": "<div>\n<style scoped>\n    .dataframe tbody tr th:only-of-type {\n        vertical-align: middle;\n    }\n\n    .dataframe tbody tr th {\n        vertical-align: top;\n    }\n\n    .dataframe thead th {\n        text-align: right;\n    }\n</style>\n<table border=\"1\" class=\"dataframe\">\n  <thead>\n    <tr style=\"text-align: right;\">\n      <th></th>\n      <th>state</th>\n      <th>district</th>\n      <th>tehsil</th>\n      <th>village</th>\n      <th>panchayat</th>\n      <th>head_of_hh</th>\n    </tr>\n  </thead>\n  <tbody>\n    <tr>\n      <th>0</th>\n      <td>ODISHA</td>\n      <td>Anugul</td>\n      <td>Anugul</td>\n      <td>Amantapur</td>\n      <td>Amantapur(Village)</td>\n      <td>CHASHI PRADHAN</td>\n    </tr>\n    <tr>\n      <th>1</th>\n      <td>ODISHA</td>\n      <td>Anugul</td>\n      <td>Anugul</td>\n      <td>Amantapur</td>\n      <td>Amantapur(Village)</td>\n      <td>FAKIR PRADHAN</td>\n    </tr>\n    <tr>\n      <th>2</th>\n      <td>ODISHA</td>\n      <td>Anugul</td>\n      <td>Anugul</td>\n      <td>Amantapur</td>\n      <td>Amantapur(Village)</td>\n      <td>PABITRA PRADHAN</td>\n    </tr>\n    <tr>\n      <th>3</th>\n      <td>ODISHA</td>\n      <td>Anugul</td>\n      <td>Anugul</td>\n      <td>Amantapur</td>\n      <td>Amantapur(Village)</td>\n      <td>PRASANTA PRADHAN</td>\n    </tr>\n    <tr>\n      <th>4</th>\n      <td>ODISHA</td>\n      <td>Anugul</td>\n      <td>Anugul</td>\n      <td>Amantapur</td>\n      <td>Amantapur(Village)</td>\n      <td>PRASHNA PRADHAN</td>\n    </tr>\n    <tr>\n      <th>...</th>\n      <td>...</td>\n      <td>...</td>\n      <td>...</td>\n      <td>...</td>\n      <td>...</td>\n      <td>...</td>\n    </tr>\n    <tr>\n      <th>280439</th>\n      <td>ODISHA</td>\n      <td>Anugul</td>\n      <td>Thakurgarh</td>\n      <td>Uchakurum</td>\n      <td>Uchakurum(Village)</td>\n      <td>SABHAGINI BEHERA</td>\n    </tr>\n    <tr>\n      <th>280440</th>\n      <td>ODISHA</td>\n      <td>Anugul</td>\n      <td>Thakurgarh</td>\n      <td>Uchakurum</td>\n      <td>Uchakurum(Village)</td>\n      <td>SANJAY BEHERA</td>\n    </tr>\n    <tr>\n      <th>280441</th>\n      <td>ODISHA</td>\n      <td>Anugul</td>\n      <td>Thakurgarh</td>\n      <td>Uchakurum</td>\n      <td>Uchakurum(Village)</td>\n      <td>SUDHAKAR BEHERA</td>\n    </tr>\n    <tr>\n      <th>280442</th>\n      <td>ODISHA</td>\n      <td>Anugul</td>\n      <td>Thakurgarh</td>\n      <td>Uchakurum</td>\n      <td>Uchakurum(Village)</td>\n      <td>SUKUMARI BEHERA</td>\n    </tr>\n    <tr>\n      <th>280443</th>\n      <td>ODISHA</td>\n      <td>Anugul</td>\n      <td>Thakurgarh</td>\n      <td>Uchakurum</td>\n      <td>Uchakurum(Village)</td>\n      <td>TARA BEHERA</td>\n    </tr>\n  </tbody>\n</table>\n<p>267646 rows × 6 columns</p>\n</div>"
     },
     "execution_count": 85,
     "metadata": {},
     "output_type": "execute_result"
    }
   ],
   "source": [
    "secc.drop_duplicates(subset=[\"state\", \"district\", \"tehsil\", \"panchayat\", \"village\", \"head_of_hh\"], inplace=True)\n",
    "secc = secc[[\"state\", \"district\", \"tehsil\", \"village\", \"panchayat\", \"head_of_hh\"]]\n",
    "secc[\"head_of_hh\"] = secc[\"head_of_hh\"].apply(lambda x: str(x.split(\"\\\\\")[0]).upper().replace(\"_\", \" \"))\n",
    "secc"
   ],
   "metadata": {
    "collapsed": false,
    "pycharm": {
     "name": "#%%\n"
    }
   }
  },
  {
   "cell_type": "code",
   "execution_count": 86,
   "outputs": [
    {
     "data": {
      "text/plain": "     district      tehsil      village  count\n1507   Anugul      Anugul    Amantapur     16\n188    Anugul      Anugul      Ambapal    340\n107    Anugul      Anugul  Angarbandha    492\n1144   Anugul      Anugul  Ankurabahal     53\n768    Anugul      Anugul   Badabahala    101\n...       ...         ...          ...    ...\n63     Anugul  Thakurgarh   Thakurgarh    613\n563    Anugul  Thakurgarh     Tileswar    139\n782    Anugul  Thakurgarh  Tumurusinga     99\n1506   Anugul  Thakurgarh    Uchakurum     16\n215    Anugul  Thakurgarh    kantapada    302\n\n[1660 rows x 4 columns]",
      "text/html": "<div>\n<style scoped>\n    .dataframe tbody tr th:only-of-type {\n        vertical-align: middle;\n    }\n\n    .dataframe tbody tr th {\n        vertical-align: top;\n    }\n\n    .dataframe thead th {\n        text-align: right;\n    }\n</style>\n<table border=\"1\" class=\"dataframe\">\n  <thead>\n    <tr style=\"text-align: right;\">\n      <th></th>\n      <th>district</th>\n      <th>tehsil</th>\n      <th>village</th>\n      <th>count</th>\n    </tr>\n  </thead>\n  <tbody>\n    <tr>\n      <th>1507</th>\n      <td>Anugul</td>\n      <td>Anugul</td>\n      <td>Amantapur</td>\n      <td>16</td>\n    </tr>\n    <tr>\n      <th>188</th>\n      <td>Anugul</td>\n      <td>Anugul</td>\n      <td>Ambapal</td>\n      <td>340</td>\n    </tr>\n    <tr>\n      <th>107</th>\n      <td>Anugul</td>\n      <td>Anugul</td>\n      <td>Angarbandha</td>\n      <td>492</td>\n    </tr>\n    <tr>\n      <th>1144</th>\n      <td>Anugul</td>\n      <td>Anugul</td>\n      <td>Ankurabahal</td>\n      <td>53</td>\n    </tr>\n    <tr>\n      <th>768</th>\n      <td>Anugul</td>\n      <td>Anugul</td>\n      <td>Badabahala</td>\n      <td>101</td>\n    </tr>\n    <tr>\n      <th>...</th>\n      <td>...</td>\n      <td>...</td>\n      <td>...</td>\n      <td>...</td>\n    </tr>\n    <tr>\n      <th>63</th>\n      <td>Anugul</td>\n      <td>Thakurgarh</td>\n      <td>Thakurgarh</td>\n      <td>613</td>\n    </tr>\n    <tr>\n      <th>563</th>\n      <td>Anugul</td>\n      <td>Thakurgarh</td>\n      <td>Tileswar</td>\n      <td>139</td>\n    </tr>\n    <tr>\n      <th>782</th>\n      <td>Anugul</td>\n      <td>Thakurgarh</td>\n      <td>Tumurusinga</td>\n      <td>99</td>\n    </tr>\n    <tr>\n      <th>1506</th>\n      <td>Anugul</td>\n      <td>Thakurgarh</td>\n      <td>Uchakurum</td>\n      <td>16</td>\n    </tr>\n    <tr>\n      <th>215</th>\n      <td>Anugul</td>\n      <td>Thakurgarh</td>\n      <td>kantapada</td>\n      <td>302</td>\n    </tr>\n  </tbody>\n</table>\n<p>1660 rows × 4 columns</p>\n</div>"
     },
     "execution_count": 86,
     "metadata": {},
     "output_type": "execute_result"
    }
   ],
   "source": [
    "secc[[\"district\", \"tehsil\", \"village\"]].value_counts().reset_index().sort_values(by=[\"district\", \"tehsil\", \"village\"])"
   ],
   "metadata": {
    "collapsed": false,
    "pycharm": {
     "name": "#%%\n"
    }
   }
  },
  {
   "cell_type": "code",
   "execution_count": 91,
   "outputs": [
    {
     "data": {
      "text/plain": "    district        block            gp  count\n8      angul        angul  angarabandha      3\n30     angul        angul  badakantakul      2\n81     angul        angul      badakera      1\n82     angul        angul       balanga      1\n56     angul        angul    balasingha      2\n..       ...          ...           ...    ...\n46     angul      talcher    santhapada      2\n80     angul      talcher      tentulei      1\n79     angul  talcher mpl    ward no 05      1\n78     angul  talcher mpl    ward no 17      1\n131    angul  talcher mpl    ward no 19      1\n\n[132 rows x 4 columns]",
      "text/html": "<div>\n<style scoped>\n    .dataframe tbody tr th:only-of-type {\n        vertical-align: middle;\n    }\n\n    .dataframe tbody tr th {\n        vertical-align: top;\n    }\n\n    .dataframe thead th {\n        text-align: right;\n    }\n</style>\n<table border=\"1\" class=\"dataframe\">\n  <thead>\n    <tr style=\"text-align: right;\">\n      <th></th>\n      <th>district</th>\n      <th>block</th>\n      <th>gp</th>\n      <th>count</th>\n    </tr>\n  </thead>\n  <tbody>\n    <tr>\n      <th>8</th>\n      <td>angul</td>\n      <td>angul</td>\n      <td>angarabandha</td>\n      <td>3</td>\n    </tr>\n    <tr>\n      <th>30</th>\n      <td>angul</td>\n      <td>angul</td>\n      <td>badakantakul</td>\n      <td>2</td>\n    </tr>\n    <tr>\n      <th>81</th>\n      <td>angul</td>\n      <td>angul</td>\n      <td>badakera</td>\n      <td>1</td>\n    </tr>\n    <tr>\n      <th>82</th>\n      <td>angul</td>\n      <td>angul</td>\n      <td>balanga</td>\n      <td>1</td>\n    </tr>\n    <tr>\n      <th>56</th>\n      <td>angul</td>\n      <td>angul</td>\n      <td>balasingha</td>\n      <td>2</td>\n    </tr>\n    <tr>\n      <th>...</th>\n      <td>...</td>\n      <td>...</td>\n      <td>...</td>\n      <td>...</td>\n    </tr>\n    <tr>\n      <th>46</th>\n      <td>angul</td>\n      <td>talcher</td>\n      <td>santhapada</td>\n      <td>2</td>\n    </tr>\n    <tr>\n      <th>80</th>\n      <td>angul</td>\n      <td>talcher</td>\n      <td>tentulei</td>\n      <td>1</td>\n    </tr>\n    <tr>\n      <th>79</th>\n      <td>angul</td>\n      <td>talcher mpl</td>\n      <td>ward no 05</td>\n      <td>1</td>\n    </tr>\n    <tr>\n      <th>78</th>\n      <td>angul</td>\n      <td>talcher mpl</td>\n      <td>ward no 17</td>\n      <td>1</td>\n    </tr>\n    <tr>\n      <th>131</th>\n      <td>angul</td>\n      <td>talcher mpl</td>\n      <td>ward no 19</td>\n      <td>1</td>\n    </tr>\n  </tbody>\n</table>\n<p>132 rows × 4 columns</p>\n</div>"
     },
     "execution_count": 91,
     "metadata": {},
     "output_type": "execute_result"
    }
   ],
   "source": [
    "pds_a[[\"district\", \"block\", \"gp\"]].value_counts().reset_index().sort_values(by=[\"district\", \"block\", \"gp\"])"
   ],
   "metadata": {
    "collapsed": false,
    "pycharm": {
     "name": "#%%\n"
    }
   }
  },
  {
   "cell_type": "code",
   "execution_count": 96,
   "outputs": [
    {
     "data": {
      "text/plain": "     district         block            gp  form.no          full.name  \\\n83      angul       talcher  kalamachhuin      538      TAPOI  BEHERA   \n98      angul       talcher        bantol      942        KAMALA  BAL   \n139     angul    athamallik      jamudoli      100       PANCHEI ROUL   \n147     angul   chhendipada      barasahi      841     CHHABILA MAJHI   \n155     angul         angul      rantalei      318        ANJALI GURU   \n...       ...           ...           ...      ...                ...   \n3013    angul        kaniha      karnapal      799      SAROJINI SAHU   \n3015    angul        kaniha        kaniha     1944      KAMANI DEHURI   \n3022    angul        kaniha       rengali     1749  MAHARGI GOCHHAYAT   \n3035    angul  kishorenagar    gan boinda       10       BILAS BEHERA   \n3069    angul      banarpal     bauligarh      865    GITANJALI SETHI   \n\n     relation     aadhar.matching.status villagename_pds  \\\n83       Head      Authentication Failed    prasanprasad   \n98       Head  Authentication Successful          balhar   \n139      Head  Authentication Successful        jamudoli   \n147      Head      Authentication Failed    dasaharasahi   \n155      Head  Authentication Successful        rantalei   \n...       ...                        ...             ...   \n3013     Head  Authentication Successful        karnapal   \n3015     Head  Authentication Successful      kansamunda   \n3022     Head  Authentication Successful         rengali   \n3035     Head  Authentication Successful          boinda   \n3069     Head                        NaN       bauligarh   \n\n     entitlment..food.option. matches  \n83                        NaN          \n98                        NaN          \n139                       NaN          \n147                       NaN          \n155                       NaN  Anugul  \n...                       ...     ...  \n3013                      NaN          \n3015                      NaN          \n3022                      NaN          \n3035                      NaN          \n3069                      NaN          \n\n[227 rows x 10 columns]",
      "text/html": "<div>\n<style scoped>\n    .dataframe tbody tr th:only-of-type {\n        vertical-align: middle;\n    }\n\n    .dataframe tbody tr th {\n        vertical-align: top;\n    }\n\n    .dataframe thead th {\n        text-align: right;\n    }\n</style>\n<table border=\"1\" class=\"dataframe\">\n  <thead>\n    <tr style=\"text-align: right;\">\n      <th></th>\n      <th>district</th>\n      <th>block</th>\n      <th>gp</th>\n      <th>form.no</th>\n      <th>full.name</th>\n      <th>relation</th>\n      <th>aadhar.matching.status</th>\n      <th>villagename_pds</th>\n      <th>entitlment..food.option.</th>\n      <th>matches</th>\n    </tr>\n  </thead>\n  <tbody>\n    <tr>\n      <th>83</th>\n      <td>angul</td>\n      <td>talcher</td>\n      <td>kalamachhuin</td>\n      <td>538</td>\n      <td>TAPOI  BEHERA</td>\n      <td>Head</td>\n      <td>Authentication Failed</td>\n      <td>prasanprasad</td>\n      <td>NaN</td>\n      <td></td>\n    </tr>\n    <tr>\n      <th>98</th>\n      <td>angul</td>\n      <td>talcher</td>\n      <td>bantol</td>\n      <td>942</td>\n      <td>KAMALA  BAL</td>\n      <td>Head</td>\n      <td>Authentication Successful</td>\n      <td>balhar</td>\n      <td>NaN</td>\n      <td></td>\n    </tr>\n    <tr>\n      <th>139</th>\n      <td>angul</td>\n      <td>athamallik</td>\n      <td>jamudoli</td>\n      <td>100</td>\n      <td>PANCHEI ROUL</td>\n      <td>Head</td>\n      <td>Authentication Successful</td>\n      <td>jamudoli</td>\n      <td>NaN</td>\n      <td></td>\n    </tr>\n    <tr>\n      <th>147</th>\n      <td>angul</td>\n      <td>chhendipada</td>\n      <td>barasahi</td>\n      <td>841</td>\n      <td>CHHABILA MAJHI</td>\n      <td>Head</td>\n      <td>Authentication Failed</td>\n      <td>dasaharasahi</td>\n      <td>NaN</td>\n      <td></td>\n    </tr>\n    <tr>\n      <th>155</th>\n      <td>angul</td>\n      <td>angul</td>\n      <td>rantalei</td>\n      <td>318</td>\n      <td>ANJALI GURU</td>\n      <td>Head</td>\n      <td>Authentication Successful</td>\n      <td>rantalei</td>\n      <td>NaN</td>\n      <td>Anugul</td>\n    </tr>\n    <tr>\n      <th>...</th>\n      <td>...</td>\n      <td>...</td>\n      <td>...</td>\n      <td>...</td>\n      <td>...</td>\n      <td>...</td>\n      <td>...</td>\n      <td>...</td>\n      <td>...</td>\n      <td>...</td>\n    </tr>\n    <tr>\n      <th>3013</th>\n      <td>angul</td>\n      <td>kaniha</td>\n      <td>karnapal</td>\n      <td>799</td>\n      <td>SAROJINI SAHU</td>\n      <td>Head</td>\n      <td>Authentication Successful</td>\n      <td>karnapal</td>\n      <td>NaN</td>\n      <td></td>\n    </tr>\n    <tr>\n      <th>3015</th>\n      <td>angul</td>\n      <td>kaniha</td>\n      <td>kaniha</td>\n      <td>1944</td>\n      <td>KAMANI DEHURI</td>\n      <td>Head</td>\n      <td>Authentication Successful</td>\n      <td>kansamunda</td>\n      <td>NaN</td>\n      <td></td>\n    </tr>\n    <tr>\n      <th>3022</th>\n      <td>angul</td>\n      <td>kaniha</td>\n      <td>rengali</td>\n      <td>1749</td>\n      <td>MAHARGI GOCHHAYAT</td>\n      <td>Head</td>\n      <td>Authentication Successful</td>\n      <td>rengali</td>\n      <td>NaN</td>\n      <td></td>\n    </tr>\n    <tr>\n      <th>3035</th>\n      <td>angul</td>\n      <td>kishorenagar</td>\n      <td>gan boinda</td>\n      <td>10</td>\n      <td>BILAS BEHERA</td>\n      <td>Head</td>\n      <td>Authentication Successful</td>\n      <td>boinda</td>\n      <td>NaN</td>\n      <td></td>\n    </tr>\n    <tr>\n      <th>3069</th>\n      <td>angul</td>\n      <td>banarpal</td>\n      <td>bauligarh</td>\n      <td>865</td>\n      <td>GITANJALI SETHI</td>\n      <td>Head</td>\n      <td>NaN</td>\n      <td>bauligarh</td>\n      <td>NaN</td>\n      <td></td>\n    </tr>\n  </tbody>\n</table>\n<p>227 rows × 10 columns</p>\n</div>"
     },
     "execution_count": 96,
     "metadata": {},
     "output_type": "execute_result"
    }
   ],
   "source": [
    "block_merged = fuzzy_merge(pds_a, secc, \"block\", \"tehsil\", threshold=80, limit=1)\n",
    "block_merged[[\"district\", \"block\", \"gp\", \"full.name\", \"matches\"]].to_csv(f\"{DATA_DIR}/block_matches.csv\")\n",
    "block_merged"
   ],
   "metadata": {
    "collapsed": false,
    "pycharm": {
     "name": "#%%\n"
    }
   }
  },
  {
   "cell_type": "code",
   "execution_count": null,
   "outputs": [],
   "source": [
    "village_merged = fuzzy_merge(pds_a, secc, \"gp\", \"village\", threshold=80, limit=1)\n",
    "village_merged[[\"district\", \"block\", \"gp\", \"full.name\", \"matches\"]].to_csv(f\"{DATA_DIR}/village_matches.csv\")\n",
    "village_merged"
   ],
   "metadata": {
    "collapsed": false,
    "pycharm": {
     "name": "#%%\n"
    }
   }
  },
  {
   "cell_type": "code",
   "execution_count": null,
   "outputs": [],
   "source": [
    "name_merged = fuzzy_merge(pds_a, secc, \"full.name\", \"head_of_hh\", threshold=80, limit=1)\n",
    "name_merged[[\"district\", \"block\", \"gp\", \"full.name\", \"matches\"]].to_csv(f\"{DATA_DIR}/name_matches.csv\")\n",
    "name_merged"
   ],
   "metadata": {
    "collapsed": false,
    "pycharm": {
     "name": "#%%\n"
    }
   }
  }
 ],
 "metadata": {
  "kernelspec": {
   "display_name": "Python 3",
   "language": "python",
   "name": "python3"
  },
  "language_info": {
   "codemirror_mode": {
    "name": "ipython",
    "version": 2
   },
   "file_extension": ".py",
   "mimetype": "text/x-python",
   "name": "python",
   "nbconvert_exporter": "python",
   "pygments_lexer": "ipython2",
   "version": "2.7.6"
  }
 },
 "nbformat": 4,
 "nbformat_minor": 0
}